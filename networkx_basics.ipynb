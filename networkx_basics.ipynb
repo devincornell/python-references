{
 "cells": [
  {
   "cell_type": "markdown",
   "metadata": {},
   "source": [
    "# Networkx Basics"
   ]
  },
  {
   "cell_type": "code",
   "execution_count": 57,
   "metadata": {
    "collapsed": false
   },
   "outputs": [],
   "source": [
    "import networkx as nx\n",
    "from pprint import pprint\n",
    "G = nx.DiGraph()"
   ]
  },
  {
   "cell_type": "markdown",
   "metadata": {},
   "source": [
    "## Nodes"
   ]
  },
  {
   "cell_type": "markdown",
   "metadata": {},
   "source": [
    "### Add Nodes"
   ]
  },
  {
   "cell_type": "code",
   "execution_count": 61,
   "metadata": {
    "collapsed": false
   },
   "outputs": [
    {
     "name": "stdout",
     "output_type": "stream",
     "text": [
      "[0, 1, 2, 'b', 'a', 'c']\n"
     ]
    }
   ],
   "source": [
    "# one at a time\n",
    "for i in range(3):\n",
    "    G.add_node(i,name='node_%d'%(i,))\n",
    "    # or\n",
    "    #G.add_node(i,{'name':'node_%d'%(i,)})\n",
    "print(G.nodes())"
   ]
  },
  {
   "cell_type": "code",
   "execution_count": 62,
   "metadata": {
    "collapsed": false
   },
   "outputs": [
    {
     "name": "stdout",
     "output_type": "stream",
     "text": [
      "[0, 1, 2, 'b', 'a', 'c']\n"
     ]
    }
   ],
   "source": [
    "G.add_nodes_from(('a','b','c'))\n",
    "print(G.nodes())"
   ]
  },
  {
   "cell_type": "markdown",
   "metadata": {},
   "source": [
    "### Get/Set Individual Node Data"
   ]
  },
  {
   "cell_type": "code",
   "execution_count": 64,
   "metadata": {
    "collapsed": false
   },
   "outputs": [
    {
     "name": "stdout",
     "output_type": "stream",
     "text": [
      "node_2\n"
     ]
    }
   ],
   "source": [
    "print(G.node[2]['name'])"
   ]
  },
  {
   "cell_type": "code",
   "execution_count": 65,
   "metadata": {
    "collapsed": false
   },
   "outputs": [
    {
     "name": "stdout",
     "output_type": "stream",
     "text": [
      "4.0 3.1\n"
     ]
    }
   ],
   "source": [
    "G.node[0]['strength'] = 4.0\n",
    "G.node['a']['strength'] = 3.1\n",
    "print(G.node[0]['strength'], G.node['a']['strength'])"
   ]
  },
  {
   "cell_type": "markdown",
   "metadata": {},
   "source": [
    "### Get/Set All Nodes"
   ]
  },
  {
   "cell_type": "code",
   "execution_count": 66,
   "metadata": {
    "collapsed": false
   },
   "outputs": [
    {
     "name": "stdout",
     "output_type": "stream",
     "text": [
      "{0: {'strength': 4.0, 'name': 'node_0'}, 1: {'name': 'node_1'}, 2: {'name': 'node_2'}, 'b': {}, 'a': {'strength': 3.1}, 'c': {}}\n",
      "[0, 1, 2, 'b', 'a', 'c']\n",
      "[(0, {'strength': 4.0, 'name': 'node_0'}), (1, {'name': 'node_1'}), (2, {'name': 'node_2'}), ('b', {}), ('a', {'strength': 3.1}), ('c', {})]\n",
      "{0: 'node_0', 1: 'node_1', 2: 'node_2'}\n"
     ]
    }
   ],
   "source": [
    "print(G.node) # don't assign to G.node\n",
    "print(G.nodes())\n",
    "print(G.nodes(data=True))\n",
    "print(nx.get_node_attributes(G,'name'))"
   ]
  },
  {
   "cell_type": "code",
   "execution_count": 67,
   "metadata": {
    "collapsed": false
   },
   "outputs": [
    {
     "name": "stdout",
     "output_type": "stream",
     "text": [
      "{0: 'node_zero', 1: 'node_one', 2: 'node_2'}\n"
     ]
    }
   ],
   "source": [
    "nx.set_node_attributes(G,'name',{0:'node_zero',1:'node_one'})\n",
    "print(nx.get_node_attributes(G,'name'))"
   ]
  },
  {
   "cell_type": "markdown",
   "metadata": {},
   "source": [
    "## Edges"
   ]
  },
  {
   "cell_type": "markdown",
   "metadata": {},
   "source": [
    "### Add Edges"
   ]
  },
  {
   "cell_type": "code",
   "execution_count": 69,
   "metadata": {
    "collapsed": false
   },
   "outputs": [
    {
     "name": "stdout",
     "output_type": "stream",
     "text": [
      "[(0, 2), (0, 'b'), (0, 'a')]\n"
     ]
    }
   ],
   "source": [
    "for u in G.nodes():\n",
    "    for v in G.nodes():\n",
    "        # G.edge[u][v]['weight'] = 3.0 will fail\n",
    "        G.add_edge(u,v,weight=3.0)\n",
    "        G.add_edge(u,v,{'weight':3.1,})\n",
    "print(G.edges()[2:5])"
   ]
  },
  {
   "cell_type": "code",
   "execution_count": 73,
   "metadata": {
    "collapsed": false,
    "scrolled": true
   },
   "outputs": [
    {
     "name": "stdout",
     "output_type": "stream",
     "text": [
      "[(0, 0, {'weight': 3.1}), (0, 1, {'weight': 3.1}), (0, 2, {'weight': 3.1})]\n"
     ]
    }
   ],
   "source": [
    "import itertools\n",
    "G.add_edges_from(itertools.product(G.nodes(),G.nodes()))\n",
    "pprint(G.edges(data=True)[:3])"
   ]
  },
  {
   "cell_type": "markdown",
   "metadata": {},
   "source": [
    "### Get/Set Individual Edges"
   ]
  },
  {
   "cell_type": "code",
   "execution_count": 90,
   "metadata": {
    "collapsed": false
   },
   "outputs": [
    {
     "name": "stdout",
     "output_type": "stream",
     "text": [
      "{'newattr': 3, 'weight': 8}\n"
     ]
    }
   ],
   "source": [
    "G.edge[0]['a']['newattr'] = 3\n",
    "pprint(G.edge[0]['a'])"
   ]
  },
  {
   "cell_type": "code",
   "execution_count": 95,
   "metadata": {
    "collapsed": false
   },
   "outputs": [
    {
     "data": {
      "text/plain": [
       "[(0, 1, {'weight': 10}),\n",
       " (0, 2, {'weight': 8}),\n",
       " (0, 'b', {'weight': 7}),\n",
       " (0, 'a', {'newattr': 3, 'weight': 8})]"
      ]
     },
     "execution_count": 95,
     "metadata": {},
     "output_type": "execute_result"
    }
   ],
   "source": [
    "G.edges(data=True)[1:5]"
   ]
  },
  {
   "cell_type": "markdown",
   "metadata": {},
   "source": [
    "### Get/Set All Edges"
   ]
  },
  {
   "cell_type": "code",
   "execution_count": 86,
   "metadata": {
    "collapsed": false
   },
   "outputs": [
    {
     "name": "stdout",
     "output_type": "stream",
     "text": [
      "6\n"
     ]
    }
   ],
   "source": [
    "pprint(nx.get_edge_attributes(G,'weight')[(0,'b')])"
   ]
  },
  {
   "cell_type": "code",
   "execution_count": 89,
   "metadata": {
    "collapsed": false
   },
   "outputs": [
    {
     "name": "stdout",
     "output_type": "stream",
     "text": [
      "[(0, 1, {'weight': 10}),\n",
      " (0, 2, {'weight': 8}),\n",
      " (0, 'b', {'weight': 7}),\n",
      " (0, 'a', {'weight': 8}),\n",
      " (0, 'c', {'weight': 1})]\n"
     ]
    }
   ],
   "source": [
    "import random\n",
    "import itertools\n",
    "nx.set_edge_attributes(G,'weight',{tup:random.randint(1,10) for tup in G.edges()})\n",
    "pprint(G.edges(data=True)[1:6])"
   ]
  }
 ],
 "metadata": {
  "kernelspec": {
   "display_name": "Python 3",
   "language": "python",
   "name": "python3"
  },
  "language_info": {
   "codemirror_mode": {
    "name": "ipython",
    "version": 3
   },
   "file_extension": ".py",
   "mimetype": "text/x-python",
   "name": "python",
   "nbconvert_exporter": "python",
   "pygments_lexer": "ipython3",
   "version": "3.4.3"
  }
 },
 "nbformat": 4,
 "nbformat_minor": 1
}
