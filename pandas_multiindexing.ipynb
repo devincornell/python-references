{
 "cells": [
  {
   "cell_type": "markdown",
   "metadata": {},
   "source": [
    "# Pandas MultiIndexing\n",
    "This document will go into using dataframes with multi-indexes to accomplish common tasks. There are many ways to do each of the things described in this doc, but the examples given are the best way that I have found to do them."
   ]
  },
  {
   "cell_type": "code",
   "execution_count": 5,
   "metadata": {
    "collapsed": false
   },
   "outputs": [],
   "source": [
    "import numpy as np\n",
    "import pandas as pd\n",
    "import itertools"
   ]
  },
  {
   "cell_type": "markdown",
   "metadata": {},
   "source": [
    "## Regular Indexes\n",
    "Indexes are straightforward, so they will be used as a starting point for understindg multiindexes."
   ]
  },
  {
   "cell_type": "markdown",
   "metadata": {},
   "source": [
    "### Construct Regular Indexes"
   ]
  },
  {
   "cell_type": "code",
   "execution_count": 6,
   "metadata": {
    "collapsed": false
   },
   "outputs": [
    {
     "name": "stdout",
     "output_type": "stream",
     "text": [
      "List-based Index: Index(['a', 'b', 'c'], dtype='object')\n",
      "Range-based Index: Int64Index([0, 1, 2, 3], dtype='int64')\n"
     ]
    }
   ],
   "source": [
    "# construct from a list or iterable\n",
    "ind_cols = pd.Index(['a','b', 'c'])\n",
    "print('List-based Index:', ind_cols)\n",
    "ind_rows = pd.Index(range(4))\n",
    "print('Range-based Index:', ind_rows)"
   ]
  },
  {
   "cell_type": "markdown",
   "metadata": {},
   "source": [
    "### Use Indexes to Build a DataFrame"
   ]
  },
  {
   "cell_type": "markdown",
   "metadata": {},
   "source": [
    "Next, we'll build a dataframe that uses these indices for index and column dimensions. These are the two default dimensions, and are sufficient for non-complex tabular data."
   ]
  },
  {
   "cell_type": "code",
   "execution_count": 7,
   "metadata": {
    "collapsed": false
   },
   "outputs": [
    {
     "name": "stdout",
     "output_type": "stream",
     "text": [
      "     a    b    c\n",
      "0  NaN  NaN  NaN\n",
      "1  NaN  NaN  NaN\n",
      "2  NaN  NaN  NaN\n",
      "3  NaN  NaN  NaN\n"
     ]
    }
   ],
   "source": [
    "df = pd.DataFrame(index=ind_rows,columns=ind_cols)\n",
    "print(df)"
   ]
  },
  {
   "cell_type": "code",
   "execution_count": 8,
   "metadata": {
    "collapsed": false
   },
   "outputs": [
    {
     "name": "stdout",
     "output_type": "stream",
     "text": [
      "          a         b         c\n",
      "0  0.905112  0.665538  0.817139\n",
      "1  0.088187  0.332614  0.058465\n",
      "2  0.267938  0.621476  0.967733\n",
      "3  0.885783  0.258796  0.858933\n"
     ]
    }
   ],
   "source": [
    "# and this time with numbers\n",
    "df = pd.DataFrame(np.random.uniform(0,1,size=(4,3)),index=ind_rows,columns=ind_cols)\n",
    "print(df)"
   ]
  },
  {
   "cell_type": "markdown",
   "metadata": {},
   "source": [
    "### Column Indexing\n",
    "Column selection can be done using df[col_name] and row selection using a logical index like df[logical_index] where logical_index is the result of an operation like df[col_name] > 4.0. "
   ]
  },
  {
   "cell_type": "code",
   "execution_count": 9,
   "metadata": {
    "collapsed": false
   },
   "outputs": [
    {
     "data": {
      "text/plain": [
       "0    0.665538\n",
       "1    0.332614\n",
       "2    0.621476\n",
       "3    0.258796\n",
       "Name: b, dtype: float64"
      ]
     },
     "execution_count": 9,
     "metadata": {},
     "output_type": "execute_result"
    }
   ],
   "source": [
    "df['b']"
   ]
  },
  {
   "cell_type": "markdown",
   "metadata": {},
   "source": [
    "### Logical Indexing\n",
    "Logical comparisons can be done to index into a dataframe. Compound logic can be done with the numpy functions np.logical_not, np.logical_and, np.logical_or, etc. Note that this method of indexing is quite slow because it must compare every element and then use that to index the dataframe."
   ]
  },
  {
   "cell_type": "code",
   "execution_count": 10,
   "metadata": {
    "collapsed": false
   },
   "outputs": [
    {
     "data": {
      "text/html": [
       "<div>\n",
       "<table border=\"1\" class=\"dataframe\">\n",
       "  <thead>\n",
       "    <tr style=\"text-align: right;\">\n",
       "      <th></th>\n",
       "      <th>a</th>\n",
       "      <th>b</th>\n",
       "      <th>c</th>\n",
       "    </tr>\n",
       "  </thead>\n",
       "  <tbody>\n",
       "    <tr>\n",
       "      <th>0</th>\n",
       "      <td>0.905112</td>\n",
       "      <td>0.665538</td>\n",
       "      <td>0.817139</td>\n",
       "    </tr>\n",
       "    <tr>\n",
       "      <th>2</th>\n",
       "      <td>0.267938</td>\n",
       "      <td>0.621476</td>\n",
       "      <td>0.967733</td>\n",
       "    </tr>\n",
       "    <tr>\n",
       "      <th>3</th>\n",
       "      <td>0.885783</td>\n",
       "      <td>0.258796</td>\n",
       "      <td>0.858933</td>\n",
       "    </tr>\n",
       "  </tbody>\n",
       "</table>\n",
       "</div>"
      ],
      "text/plain": [
       "          a         b         c\n",
       "0  0.905112  0.665538  0.817139\n",
       "2  0.267938  0.621476  0.967733\n",
       "3  0.885783  0.258796  0.858933"
      ]
     },
     "execution_count": 10,
     "metadata": {},
     "output_type": "execute_result"
    }
   ],
   "source": [
    "df[df['a'] > 0.2]"
   ]
  },
  {
   "cell_type": "code",
   "execution_count": 11,
   "metadata": {
    "collapsed": false
   },
   "outputs": [
    {
     "data": {
      "text/html": [
       "<div>\n",
       "<table border=\"1\" class=\"dataframe\">\n",
       "  <thead>\n",
       "    <tr style=\"text-align: right;\">\n",
       "      <th></th>\n",
       "      <th>a</th>\n",
       "      <th>b</th>\n",
       "      <th>c</th>\n",
       "    </tr>\n",
       "  </thead>\n",
       "  <tbody>\n",
       "    <tr>\n",
       "      <th>0</th>\n",
       "      <td>0.905112</td>\n",
       "      <td>0.665538</td>\n",
       "      <td>0.817139</td>\n",
       "    </tr>\n",
       "    <tr>\n",
       "      <th>2</th>\n",
       "      <td>0.267938</td>\n",
       "      <td>0.621476</td>\n",
       "      <td>0.967733</td>\n",
       "    </tr>\n",
       "    <tr>\n",
       "      <th>3</th>\n",
       "      <td>0.885783</td>\n",
       "      <td>0.258796</td>\n",
       "      <td>0.858933</td>\n",
       "    </tr>\n",
       "  </tbody>\n",
       "</table>\n",
       "</div>"
      ],
      "text/plain": [
       "          a         b         c\n",
       "0  0.905112  0.665538  0.817139\n",
       "2  0.267938  0.621476  0.967733\n",
       "3  0.885783  0.258796  0.858933"
      ]
     },
     "execution_count": 11,
     "metadata": {},
     "output_type": "execute_result"
    }
   ],
   "source": [
    "df[np.logical_and(df['a'] > 0.1, df['b'] > 0.1)]"
   ]
  },
  {
   "cell_type": "markdown",
   "metadata": {},
   "source": [
    "### .loc[] Indexing\n",
    "The best or most common way of indexing uses the .loc method of a dataframe, but it can also be the most challenging. Dimensions (like index and columns) are always separated by commas in the loc[] brackets."
   ]
  },
  {
   "cell_type": "code",
   "execution_count": 12,
   "metadata": {
    "collapsed": false
   },
   "outputs": [
    {
     "data": {
      "text/plain": [
       "0.088187275308875712"
      ]
     },
     "execution_count": 12,
     "metadata": {},
     "output_type": "execute_result"
    }
   ],
   "source": [
    "df.loc[1,'a']"
   ]
  },
  {
   "cell_type": "markdown",
   "metadata": {},
   "source": [
    "Slicing can also used on each dimension."
   ]
  },
  {
   "cell_type": "code",
   "execution_count": 13,
   "metadata": {
    "collapsed": false
   },
   "outputs": [
    {
     "data": {
      "text/html": [
       "<div>\n",
       "<table border=\"1\" class=\"dataframe\">\n",
       "  <thead>\n",
       "    <tr style=\"text-align: right;\">\n",
       "      <th></th>\n",
       "      <th>a</th>\n",
       "      <th>b</th>\n",
       "    </tr>\n",
       "  </thead>\n",
       "  <tbody>\n",
       "    <tr>\n",
       "      <th>1</th>\n",
       "      <td>0.088187</td>\n",
       "      <td>0.332614</td>\n",
       "    </tr>\n",
       "    <tr>\n",
       "      <th>2</th>\n",
       "      <td>0.267938</td>\n",
       "      <td>0.621476</td>\n",
       "    </tr>\n",
       "    <tr>\n",
       "      <th>3</th>\n",
       "      <td>0.885783</td>\n",
       "      <td>0.258796</td>\n",
       "    </tr>\n",
       "  </tbody>\n",
       "</table>\n",
       "</div>"
      ],
      "text/plain": [
       "          a         b\n",
       "1  0.088187  0.332614\n",
       "2  0.267938  0.621476\n",
       "3  0.885783  0.258796"
      ]
     },
     "execution_count": 13,
     "metadata": {},
     "output_type": "execute_result"
    }
   ],
   "source": [
    "df.loc[1:,'a':'b']"
   ]
  },
  {
   "cell_type": "markdown",
   "metadata": {},
   "source": [
    "When accessing dimensions that use Simple Indexes, providing a tuple will allow one to explicitly select multiple columns. Be careful, because this has a different meaning with multi-indexes."
   ]
  },
  {
   "cell_type": "code",
   "execution_count": 14,
   "metadata": {
    "collapsed": false
   },
   "outputs": [
    {
     "data": {
      "text/html": [
       "<div>\n",
       "<table border=\"1\" class=\"dataframe\">\n",
       "  <thead>\n",
       "    <tr style=\"text-align: right;\">\n",
       "      <th></th>\n",
       "      <th>a</th>\n",
       "      <th>c</th>\n",
       "    </tr>\n",
       "  </thead>\n",
       "  <tbody>\n",
       "    <tr>\n",
       "      <th>1</th>\n",
       "      <td>0.088187</td>\n",
       "      <td>0.058465</td>\n",
       "    </tr>\n",
       "    <tr>\n",
       "      <th>2</th>\n",
       "      <td>0.267938</td>\n",
       "      <td>0.967733</td>\n",
       "    </tr>\n",
       "    <tr>\n",
       "      <th>3</th>\n",
       "      <td>0.885783</td>\n",
       "      <td>0.858933</td>\n",
       "    </tr>\n",
       "  </tbody>\n",
       "</table>\n",
       "</div>"
      ],
      "text/plain": [
       "          a         c\n",
       "1  0.088187  0.058465\n",
       "2  0.267938  0.967733\n",
       "3  0.885783  0.858933"
      ]
     },
     "execution_count": 14,
     "metadata": {},
     "output_type": "execute_result"
    }
   ],
   "source": [
    "df.loc[1:,('a','c')]"
   ]
  },
  {
   "cell_type": "markdown",
   "metadata": {},
   "source": [
    "## The MultiIndex\n",
    "There are a couple different ways to construct and use a multi-index. First thing to note is that a pandas MultiIndex object can be used instead of a regular Index on any dimension (like index, columns). First, there are a few ways to construct them."
   ]
  },
  {
   "cell_type": "markdown",
   "metadata": {},
   "source": [
    "### Construct a MultiIndex"
   ]
  },
  {
   "cell_type": "code",
   "execution_count": 15,
   "metadata": {
    "collapsed": false
   },
   "outputs": [
    {
     "name": "stdout",
     "output_type": "stream",
     "text": [
      "MultiIndex(levels=[[0, 1, 2, 3], ['in', 'out']],\n",
      "           labels=[[0, 0, 1, 1, 2, 2, 3, 3], [0, 1, 0, 1, 0, 1, 0, 1]],\n",
      "           names=['number', 'direction'])\n"
     ]
    }
   ],
   "source": [
    "nodes = range(4)\n",
    "attr = ('in', 'out')\n",
    "indlist = list(itertools.product(nodes,attr))\n",
    "mi = pd.MultiIndex.from_tuples(indlist, names=['number','direction'])\n",
    "print(mi)"
   ]
  },
  {
   "cell_type": "markdown",
   "metadata": {},
   "source": [
    "or, equivalently:"
   ]
  },
  {
   "cell_type": "code",
   "execution_count": 16,
   "metadata": {
    "collapsed": false
   },
   "outputs": [
    {
     "name": "stdout",
     "output_type": "stream",
     "text": [
      "MultiIndex(levels=[[0, 1, 2, 3], ['in', 'out']],\n",
      "           labels=[[0, 0, 1, 1, 2, 2, 3, 3], [0, 1, 0, 1, 0, 1, 0, 1]],\n",
      "           names=['number', 'direction'])\n"
     ]
    }
   ],
   "source": [
    "nodes = range(4)\n",
    "attr = ('in', 'out')\n",
    "mi = pd.MultiIndex.from_product([nodes,attr], names=['number','direction'])\n",
    "print(mi)"
   ]
  },
  {
   "cell_type": "markdown",
   "metadata": {},
   "source": [
    "A MultiIndex itself is an efficient structure that is a little hard to view with a simple print. One of the easiest ways to observe it might be in list form. You'll have to imagine the heararchy part this way. It's also convenient to see the heirarchy later in the DataFrame view."
   ]
  },
  {
   "cell_type": "code",
   "execution_count": 17,
   "metadata": {
    "collapsed": false
   },
   "outputs": [
    {
     "name": "stdout",
     "output_type": "stream",
     "text": [
      "[(0, 'in'), (0, 'out'), (1, 'in'), (1, 'out'), (2, 'in'), (2, 'out'), (3, 'in'), (3, 'out')]\n"
     ]
    }
   ],
   "source": [
    "print(list(mi))"
   ]
  },
  {
   "cell_type": "markdown",
   "metadata": {},
   "source": [
    "You can access these items directly to get all possible labels at each level."
   ]
  },
  {
   "cell_type": "code",
   "execution_count": 18,
   "metadata": {
    "collapsed": false
   },
   "outputs": [
    {
     "data": {
      "text/plain": [
       "Index(['in', 'out'], dtype='object', name='direction')"
      ]
     },
     "execution_count": 18,
     "metadata": {},
     "output_type": "execute_result"
    }
   ],
   "source": [
    "mi.levels[1]"
   ]
  },
  {
   "cell_type": "markdown",
   "metadata": {},
   "source": [
    "And you can also use the method \"get_level_values\" to acess different pseudo-columns of the index."
   ]
  },
  {
   "cell_type": "code",
   "execution_count": 19,
   "metadata": {
    "collapsed": false
   },
   "outputs": [
    {
     "name": "stdout",
     "output_type": "stream",
     "text": [
      "Index(['in', 'out', 'in', 'out', 'in', 'out', 'in', 'out'], dtype='object', name='direction')\n",
      "Index(['in', 'out', 'in', 'out', 'in', 'out', 'in', 'out'], dtype='object', name='direction')\n"
     ]
    }
   ],
   "source": [
    "print(mi.get_level_values(1))\n",
    "print(mi.get_level_values('direction'))"
   ]
  },
  {
   "cell_type": "markdown",
   "metadata": {},
   "source": [
    "You can also reorder the index levels if needed."
   ]
  },
  {
   "cell_type": "code",
   "execution_count": 20,
   "metadata": {
    "collapsed": false
   },
   "outputs": [
    {
     "name": "stdout",
     "output_type": "stream",
     "text": [
      "MultiIndex(levels=[['in', 'out'], [0, 1, 2, 3]],\n",
      "           labels=[[0, 1, 0, 1, 0, 1, 0, 1], [0, 0, 1, 1, 2, 2, 3, 3]],\n",
      "           names=['direction', 'number'])\n",
      "MultiIndex(levels=[[0, 1, 2, 3], ['in', 'out']],\n",
      "           labels=[[0, 0, 1, 1, 2, 2, 3, 3], [0, 1, 0, 1, 0, 1, 0, 1]],\n",
      "           names=['number', 'direction'])\n"
     ]
    }
   ],
   "source": [
    "mi = mi.reorder_levels((1,0))\n",
    "print(mi)\n",
    "mi = mi.reorder_levels((1,0))\n",
    "print(mi)"
   ]
  },
  {
   "cell_type": "markdown",
   "metadata": {},
   "source": [
    "### Construct a DataFrame Using a MultiIndex\n",
    "Now the MultiIndex will be used to construct a dataframe. Without data values it will look like this:"
   ]
  },
  {
   "cell_type": "code",
   "execution_count": 21,
   "metadata": {
    "collapsed": false
   },
   "outputs": [
    {
     "name": "stdout",
     "output_type": "stream",
     "text": [
      "                 attr_a attr_b attr_c\n",
      "number direction                     \n",
      "0      in           NaN    NaN    NaN\n",
      "       out          NaN    NaN    NaN\n",
      "1      in           NaN    NaN    NaN\n",
      "       out          NaN    NaN    NaN\n",
      "2      in           NaN    NaN    NaN\n",
      "       out          NaN    NaN    NaN\n",
      "3      in           NaN    NaN    NaN\n",
      "       out          NaN    NaN    NaN\n"
     ]
    }
   ],
   "source": [
    "cols = ['attr_a','attr_b','attr_c']\n",
    "df = pd.DataFrame(index=mi,columns=cols)\n",
    "print(df)"
   ]
  },
  {
   "cell_type": "markdown",
   "metadata": {},
   "source": [
    "and with data values, like this:"
   ]
  },
  {
   "cell_type": "code",
   "execution_count": 22,
   "metadata": {
    "collapsed": false
   },
   "outputs": [
    {
     "name": "stdout",
     "output_type": "stream",
     "text": [
      "                    attr_a    attr_b    attr_c\n",
      "number direction                              \n",
      "0      in         0.598200  0.968099  0.541835\n",
      "       out        0.624987  0.032465  0.525873\n",
      "1      in         0.694152  0.981712  0.069959\n",
      "       out        0.501086  0.900349  0.317123\n",
      "2      in         0.911546  0.733099  0.912633\n",
      "       out        0.438137  0.922308  0.043530\n",
      "3      in         0.040312  0.247064  0.932242\n",
      "       out        0.467241  0.908447  0.461814\n"
     ]
    }
   ],
   "source": [
    "cols = ['attr_a','attr_b','attr_c']\n",
    "dat = np.random.uniform(0,1,(len(mi),len(cols)))\n",
    "df = pd.DataFrame(dat,index=mi,columns=cols)\n",
    "print(df)"
   ]
  },
  {
   "cell_type": "markdown",
   "metadata": {},
   "source": [
    "Although in this case it has already been done, in some cases you may need to sort the axis dimensions to perform partial indexing."
   ]
  },
  {
   "cell_type": "code",
   "execution_count": 23,
   "metadata": {
    "collapsed": true
   },
   "outputs": [],
   "source": [
    "df.sort_index(axis='index',inplace=True)"
   ]
  },
  {
   "cell_type": "markdown",
   "metadata": {},
   "source": [
    "### .loc[] Indexing With MultiIndex\n",
    "Just as with simple index dataframes, .loc[] for dataframes with multiindices should separate dimensions by commas. In dimensions that use the MultiIndex, provide a complete tuple to get or assign a specific value."
   ]
  },
  {
   "cell_type": "code",
   "execution_count": 24,
   "metadata": {
    "collapsed": false
   },
   "outputs": [
    {
     "data": {
      "text/plain": [
       "0.69415240507530573"
      ]
     },
     "execution_count": 24,
     "metadata": {},
     "output_type": "execute_result"
    }
   ],
   "source": [
    "df.loc[(1,'in'),'attr_a']"
   ]
  },
  {
   "cell_type": "markdown",
   "metadata": {},
   "source": [
    "And ignore all but the first index level by providng a scalar."
   ]
  },
  {
   "cell_type": "code",
   "execution_count": 25,
   "metadata": {
    "collapsed": false
   },
   "outputs": [
    {
     "data": {
      "text/plain": [
       "direction\n",
       "in     0.694152\n",
       "out    0.501086\n",
       "Name: attr_a, dtype: float64"
      ]
     },
     "execution_count": 25,
     "metadata": {},
     "output_type": "execute_result"
    }
   ],
   "source": [
    "df.loc[1,'attr_a']"
   ]
  },
  {
   "cell_type": "markdown",
   "metadata": {},
   "source": [
    "In this example, you can consider the tuple (0,'in') to be a single element of the MultiIndex. Because of that, you can slice values like the following."
   ]
  },
  {
   "cell_type": "code",
   "execution_count": 26,
   "metadata": {
    "collapsed": false
   },
   "outputs": [
    {
     "data": {
      "text/plain": [
       "number  direction\n",
       "0       in           0.598200\n",
       "        out          0.624987\n",
       "1       in           0.694152\n",
       "        out          0.501086\n",
       "Name: attr_a, dtype: float64"
      ]
     },
     "execution_count": 26,
     "metadata": {},
     "output_type": "execute_result"
    }
   ],
   "source": [
    "df.loc[(0,'in'):(1,'out'),'attr_a']"
   ]
  },
  {
   "cell_type": "markdown",
   "metadata": {},
   "source": [
    "### .loc[] With Partial Index"
   ]
  },
  {
   "cell_type": "markdown",
   "metadata": {},
   "source": [
    "You can also provide a partial index leveling in order."
   ]
  },
  {
   "cell_type": "code",
   "execution_count": 27,
   "metadata": {
    "collapsed": false
   },
   "outputs": [
    {
     "data": {
      "text/plain": [
       "direction\n",
       "in     0.598200\n",
       "out    0.624987\n",
       "Name: attr_a, dtype: float64"
      ]
     },
     "execution_count": 27,
     "metadata": {},
     "output_type": "execute_result"
    }
   ],
   "source": [
    "df.loc[(0,),'attr_a']"
   ]
  },
  {
   "cell_type": "markdown",
   "metadata": {},
   "source": [
    "Also include slices in tuples. Because it is in the tuple you need to use the 'slice' function instead of the ':' operator."
   ]
  },
  {
   "cell_type": "code",
   "execution_count": 28,
   "metadata": {
    "collapsed": false
   },
   "outputs": [
    {
     "data": {
      "text/plain": [
       "number  direction\n",
       "0       in           0.598200\n",
       "        out          0.624987\n",
       "1       in           0.694152\n",
       "        out          0.501086\n",
       "Name: attr_a, dtype: float64"
      ]
     },
     "execution_count": 28,
     "metadata": {},
     "output_type": "execute_result"
    }
   ],
   "source": [
    "df.loc[(slice(0,1),),'attr_a']"
   ]
  },
  {
   "cell_type": "markdown",
   "metadata": {},
   "source": [
    "Or use another tuple to get specific values at a specific level."
   ]
  },
  {
   "cell_type": "code",
   "execution_count": 29,
   "metadata": {
    "collapsed": false
   },
   "outputs": [
    {
     "data": {
      "text/plain": [
       "number  direction\n",
       "0       in           0.598200\n",
       "        out          0.624987\n",
       "3       in           0.040312\n",
       "        out          0.467241\n",
       "Name: attr_a, dtype: float64"
      ]
     },
     "execution_count": 29,
     "metadata": {},
     "output_type": "execute_result"
    }
   ],
   "source": [
    "df.loc[((0,3),),'attr_a']"
   ]
  },
  {
   "cell_type": "markdown",
   "metadata": {
    "collapsed": true
   },
   "source": [
    "Incomplete indexing can be made more robust by including slicing in specific levels according to the lexical sorting. Note that 'slice(None)' can be used instead of the 'all' slice operator ':'."
   ]
  },
  {
   "cell_type": "code",
   "execution_count": 30,
   "metadata": {
    "collapsed": false
   },
   "outputs": [
    {
     "data": {
      "text/plain": [
       "number  direction\n",
       "0       out          0.624987\n",
       "1       out          0.501086\n",
       "2       out          0.438137\n",
       "3       out          0.467241\n",
       "Name: attr_a, dtype: float64"
      ]
     },
     "execution_count": 30,
     "metadata": {},
     "output_type": "execute_result"
    }
   ],
   "source": [
    "df.loc[(slice(None),'out'),'attr_a']"
   ]
  },
  {
   "cell_type": "markdown",
   "metadata": {},
   "source": [
    "## Looping Through DataFrame With MultiIndex Dimension\n",
    "Looping is one of the most simple things you may want to do with your MultiIndex and DataFrame. You can always get your multiindex back out of the dataframe directly. For example we will switch to a thre-dimensional indexing scheme."
   ]
  },
  {
   "cell_type": "code",
   "execution_count": 49,
   "metadata": {
    "collapsed": false
   },
   "outputs": [
    {
     "name": "stdout",
     "output_type": "stream",
     "text": [
      "            skill  experience\n",
      "0 in  a  0.959982    0.748411\n",
      "      b  0.800790    0.368096\n",
      "  out a  0.837333    0.838389\n",
      "      b  0.849932    0.503325\n",
      "1 out a  0.538083    0.615077\n",
      "2 in  a  0.906411    0.328551\n",
      "      b  0.924629    0.034630\n",
      "  out a  0.703278    0.578899\n",
      "      b  0.773594    0.030768\n"
     ]
    }
   ],
   "source": [
    "cols = ['skill', 'experience']\n",
    "mi = pd.MultiIndex.from_product([range(3),('in','out'),('a','b')])\n",
    "data = np.random.uniform(0,1,size=(12,len(cols)))\n",
    "df = pd.DataFrame(data,index=mi,columns=cols)\n",
    "df = df[df['skill'] > 0.5]\n",
    "print(df)"
   ]
  },
  {
   "cell_type": "code",
   "execution_count": 71,
   "metadata": {
    "collapsed": false
   },
   "outputs": [
    {
     "name": "stdout",
     "output_type": "stream",
     "text": [
      "            skill  experience\n",
      "0 in  a  0.959982    0.748411\n",
      "      b  0.800790    0.368096\n",
      "  out a  0.837333    0.838389\n",
      "      b  0.849932    0.503325\n",
      "            skill  experience\n",
      "0 out a  0.837333    0.838389\n",
      "      b  0.849932    0.503325\n",
      "skill         0.837333\n",
      "experience    0.838389\n",
      "Name: (0, out, a), dtype: float64\n",
      "skill         0.849932\n",
      "experience    0.503325\n",
      "Name: (0, out, b), dtype: float64\n",
      "           skill  experience\n",
      "0 in a  0.959982    0.748411\n",
      "     b  0.800790    0.368096\n",
      "skill         0.959982\n",
      "experience    0.748411\n",
      "Name: (0, in, a), dtype: float64\n",
      "skill         0.800790\n",
      "experience    0.368096\n",
      "Name: (0, in, b), dtype: float64\n",
      "            skill  experience\n",
      "1 out a  0.538083    0.615077\n",
      "            skill  experience\n",
      "1 out a  0.538083    0.615077\n",
      "skill         0.538083\n",
      "experience    0.615077\n",
      "Name: (1, out, a), dtype: float64\n",
      "            skill  experience\n",
      "2 in  a  0.906411    0.328551\n",
      "      b  0.924629    0.034630\n",
      "  out a  0.703278    0.578899\n",
      "      b  0.773594    0.030768\n",
      "            skill  experience\n",
      "2 out a  0.703278    0.578899\n",
      "      b  0.773594    0.030768\n",
      "skill         0.703278\n",
      "experience    0.578899\n",
      "Name: (2, out, a), dtype: float64\n",
      "skill         0.773594\n",
      "experience    0.030768\n",
      "Name: (2, out, b), dtype: float64\n",
      "           skill  experience\n",
      "2 in a  0.906411    0.328551\n",
      "     b  0.924629    0.034630\n",
      "skill         0.906411\n",
      "experience    0.328551\n",
      "Name: (2, in, a), dtype: float64\n",
      "skill         0.924629\n",
      "experience    0.034630\n",
      "Name: (2, in, b), dtype: float64\n"
     ]
    }
   ],
   "source": [
    "def mdf(mi,match):\n",
    "    ''' Returns the list of children of the ordered match\n",
    "    set given by match.'''\n",
    "    matchfilt = filter(lambda x: x[:len(match)] == match,mi)\n",
    "    return set([x[len(match)] for x in matchfilt])\n",
    "\n",
    "for i in mdf(df.index,()):\n",
    "    print(df.loc[(i,slice(None),slice(None))])\n",
    "    for j in mdf(df.index,(i,)):\n",
    "        print(df.loc[(i,j,slice(None))])\n",
    "        for k in mdf(df.index,(i,j)):\n",
    "            print(df.loc[(i,j,k)])"
   ]
  }
 ],
 "metadata": {
  "kernelspec": {
   "display_name": "Python 3",
   "language": "python",
   "name": "python3"
  },
  "language_info": {
   "codemirror_mode": {
    "name": "ipython",
    "version": 3
   },
   "file_extension": ".py",
   "mimetype": "text/x-python",
   "name": "python",
   "nbconvert_exporter": "python",
   "pygments_lexer": "ipython3",
   "version": "3.4.3"
  }
 },
 "nbformat": 4,
 "nbformat_minor": 1
}
