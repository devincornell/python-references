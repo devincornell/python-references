{
 "cells": [
  {
   "cell_type": "markdown",
   "metadata": {},
   "source": [
    "# Pandas MultiIndexing\n",
    "This document will go into using dataframes with multi-indexes to accomplish common tasks. There are many ways to do each of the things described in this doc, but the examples given are the best way that I have found to do them."
   ]
  },
  {
   "cell_type": "code",
   "execution_count": 2,
   "metadata": {
    "collapsed": false
   },
   "outputs": [],
   "source": [
    "import numpy as np\n",
    "import pandas as pd\n",
    "import itertools"
   ]
  },
  {
   "cell_type": "markdown",
   "metadata": {},
   "source": [
    "## Regular Indexes\n",
    "Indexes are straightforward, so they will be used as a starting point for understindg multiindexes."
   ]
  },
  {
   "cell_type": "markdown",
   "metadata": {},
   "source": [
    "### Construct Regular Indexes"
   ]
  },
  {
   "cell_type": "code",
   "execution_count": 3,
   "metadata": {
    "collapsed": false
   },
   "outputs": [
    {
     "name": "stdout",
     "output_type": "stream",
     "text": [
      "List-based Index: Index(['a', 'b', 'c'], dtype='object')\n",
      "Range-based Index: Int64Index([0, 1, 2, 3], dtype='int64')\n"
     ]
    }
   ],
   "source": [
    "# construct from a list or iterable\n",
    "ind_cols = pd.Index(['a','b', 'c'])\n",
    "print('List-based Index:', ind_cols)\n",
    "ind_rows = pd.Index(range(4))\n",
    "print('Range-based Index:', ind_rows)"
   ]
  },
  {
   "cell_type": "markdown",
   "metadata": {},
   "source": [
    "### Use Indexes to Build a DataFrame"
   ]
  },
  {
   "cell_type": "markdown",
   "metadata": {},
   "source": [
    "Next, we'll build a dataframe that uses these indices for index and column dimensions. These are the two default dimensions, and are sufficient for non-complex tabular data."
   ]
  },
  {
   "cell_type": "code",
   "execution_count": 4,
   "metadata": {
    "collapsed": false
   },
   "outputs": [
    {
     "name": "stdout",
     "output_type": "stream",
     "text": [
      "     a    b    c\n",
      "0  NaN  NaN  NaN\n",
      "1  NaN  NaN  NaN\n",
      "2  NaN  NaN  NaN\n",
      "3  NaN  NaN  NaN\n"
     ]
    }
   ],
   "source": [
    "df = pd.DataFrame(index=ind_rows,columns=ind_cols)\n",
    "print(df)"
   ]
  },
  {
   "cell_type": "code",
   "execution_count": 5,
   "metadata": {
    "collapsed": false
   },
   "outputs": [
    {
     "name": "stdout",
     "output_type": "stream",
     "text": [
      "          a         b         c\n",
      "0  0.171932  0.200883  0.541344\n",
      "1  0.682860  0.660650  0.136091\n",
      "2  0.789951  0.014180  0.541751\n",
      "3  0.479402  0.677582  0.529187\n"
     ]
    }
   ],
   "source": [
    "# and this time with numbers\n",
    "df = pd.DataFrame(np.random.uniform(0,1,size=(4,3)),index=ind_rows,columns=ind_cols)\n",
    "print(df)"
   ]
  },
  {
   "cell_type": "markdown",
   "metadata": {},
   "source": [
    "### Column Indexing\n",
    "Column selection can be done using df[col_name] and row selection using a logical index like df[logical_index] where logical_index is the result of an operation like df[col_name] > 4.0. "
   ]
  },
  {
   "cell_type": "code",
   "execution_count": 6,
   "metadata": {
    "collapsed": false
   },
   "outputs": [
    {
     "data": {
      "text/plain": [
       "0    0.200883\n",
       "1    0.660650\n",
       "2    0.014180\n",
       "3    0.677582\n",
       "Name: b, dtype: float64"
      ]
     },
     "execution_count": 6,
     "metadata": {},
     "output_type": "execute_result"
    }
   ],
   "source": [
    "df['b']"
   ]
  },
  {
   "cell_type": "markdown",
   "metadata": {},
   "source": [
    "### Logical Indexing\n",
    "Logical comparisons can be done to index into a dataframe. Compound logic can be done with the numpy functions np.logical_not, np.logical_and, np.logical_or, etc. Note that this method of indexing is quite slow because it must compare every element and then use that to index the dataframe."
   ]
  },
  {
   "cell_type": "code",
   "execution_count": 7,
   "metadata": {
    "collapsed": false
   },
   "outputs": [
    {
     "data": {
      "text/html": [
       "<div>\n",
       "<table border=\"1\" class=\"dataframe\">\n",
       "  <thead>\n",
       "    <tr style=\"text-align: right;\">\n",
       "      <th></th>\n",
       "      <th>a</th>\n",
       "      <th>b</th>\n",
       "      <th>c</th>\n",
       "    </tr>\n",
       "  </thead>\n",
       "  <tbody>\n",
       "    <tr>\n",
       "      <th>1</th>\n",
       "      <td>0.682860</td>\n",
       "      <td>0.660650</td>\n",
       "      <td>0.136091</td>\n",
       "    </tr>\n",
       "    <tr>\n",
       "      <th>2</th>\n",
       "      <td>0.789951</td>\n",
       "      <td>0.014180</td>\n",
       "      <td>0.541751</td>\n",
       "    </tr>\n",
       "    <tr>\n",
       "      <th>3</th>\n",
       "      <td>0.479402</td>\n",
       "      <td>0.677582</td>\n",
       "      <td>0.529187</td>\n",
       "    </tr>\n",
       "  </tbody>\n",
       "</table>\n",
       "</div>"
      ],
      "text/plain": [
       "          a         b         c\n",
       "1  0.682860  0.660650  0.136091\n",
       "2  0.789951  0.014180  0.541751\n",
       "3  0.479402  0.677582  0.529187"
      ]
     },
     "execution_count": 7,
     "metadata": {},
     "output_type": "execute_result"
    }
   ],
   "source": [
    "df[df['a'] > 0.2]"
   ]
  },
  {
   "cell_type": "code",
   "execution_count": 8,
   "metadata": {
    "collapsed": false
   },
   "outputs": [
    {
     "data": {
      "text/html": [
       "<div>\n",
       "<table border=\"1\" class=\"dataframe\">\n",
       "  <thead>\n",
       "    <tr style=\"text-align: right;\">\n",
       "      <th></th>\n",
       "      <th>a</th>\n",
       "      <th>b</th>\n",
       "      <th>c</th>\n",
       "    </tr>\n",
       "  </thead>\n",
       "  <tbody>\n",
       "    <tr>\n",
       "      <th>0</th>\n",
       "      <td>0.171932</td>\n",
       "      <td>0.200883</td>\n",
       "      <td>0.541344</td>\n",
       "    </tr>\n",
       "    <tr>\n",
       "      <th>1</th>\n",
       "      <td>0.682860</td>\n",
       "      <td>0.660650</td>\n",
       "      <td>0.136091</td>\n",
       "    </tr>\n",
       "    <tr>\n",
       "      <th>3</th>\n",
       "      <td>0.479402</td>\n",
       "      <td>0.677582</td>\n",
       "      <td>0.529187</td>\n",
       "    </tr>\n",
       "  </tbody>\n",
       "</table>\n",
       "</div>"
      ],
      "text/plain": [
       "          a         b         c\n",
       "0  0.171932  0.200883  0.541344\n",
       "1  0.682860  0.660650  0.136091\n",
       "3  0.479402  0.677582  0.529187"
      ]
     },
     "execution_count": 8,
     "metadata": {},
     "output_type": "execute_result"
    }
   ],
   "source": [
    "df[np.logical_and(df['a'] > 0.1, df['b'] > 0.1)]"
   ]
  },
  {
   "cell_type": "markdown",
   "metadata": {},
   "source": [
    "### .loc[] Indexing\n",
    "The best or most common way of indexing uses the .loc method of a dataframe, but it can also be the most challenging. Dimensions (like index and columns) are always separated by commas in the loc[] brackets."
   ]
  },
  {
   "cell_type": "code",
   "execution_count": 9,
   "metadata": {
    "collapsed": false
   },
   "outputs": [
    {
     "data": {
      "text/plain": [
       "0.68285950843423981"
      ]
     },
     "execution_count": 9,
     "metadata": {},
     "output_type": "execute_result"
    }
   ],
   "source": [
    "df.loc[1,'a']"
   ]
  },
  {
   "cell_type": "markdown",
   "metadata": {},
   "source": [
    "Slicing can also used on each dimension."
   ]
  },
  {
   "cell_type": "code",
   "execution_count": 10,
   "metadata": {
    "collapsed": false
   },
   "outputs": [
    {
     "data": {
      "text/html": [
       "<div>\n",
       "<table border=\"1\" class=\"dataframe\">\n",
       "  <thead>\n",
       "    <tr style=\"text-align: right;\">\n",
       "      <th></th>\n",
       "      <th>a</th>\n",
       "      <th>b</th>\n",
       "    </tr>\n",
       "  </thead>\n",
       "  <tbody>\n",
       "    <tr>\n",
       "      <th>1</th>\n",
       "      <td>0.682860</td>\n",
       "      <td>0.660650</td>\n",
       "    </tr>\n",
       "    <tr>\n",
       "      <th>2</th>\n",
       "      <td>0.789951</td>\n",
       "      <td>0.014180</td>\n",
       "    </tr>\n",
       "    <tr>\n",
       "      <th>3</th>\n",
       "      <td>0.479402</td>\n",
       "      <td>0.677582</td>\n",
       "    </tr>\n",
       "  </tbody>\n",
       "</table>\n",
       "</div>"
      ],
      "text/plain": [
       "          a         b\n",
       "1  0.682860  0.660650\n",
       "2  0.789951  0.014180\n",
       "3  0.479402  0.677582"
      ]
     },
     "execution_count": 10,
     "metadata": {},
     "output_type": "execute_result"
    }
   ],
   "source": [
    "df.loc[1:,'a':'b']"
   ]
  },
  {
   "cell_type": "markdown",
   "metadata": {},
   "source": [
    "When accessing dimensions that use Simple Indexes, providing a tuple will allow one to explicitly select multiple columns. Be careful, because this has a different meaning with multi-indexes."
   ]
  },
  {
   "cell_type": "code",
   "execution_count": 11,
   "metadata": {
    "collapsed": false
   },
   "outputs": [
    {
     "data": {
      "text/html": [
       "<div>\n",
       "<table border=\"1\" class=\"dataframe\">\n",
       "  <thead>\n",
       "    <tr style=\"text-align: right;\">\n",
       "      <th></th>\n",
       "      <th>a</th>\n",
       "      <th>c</th>\n",
       "    </tr>\n",
       "  </thead>\n",
       "  <tbody>\n",
       "    <tr>\n",
       "      <th>1</th>\n",
       "      <td>0.682860</td>\n",
       "      <td>0.136091</td>\n",
       "    </tr>\n",
       "    <tr>\n",
       "      <th>2</th>\n",
       "      <td>0.789951</td>\n",
       "      <td>0.541751</td>\n",
       "    </tr>\n",
       "    <tr>\n",
       "      <th>3</th>\n",
       "      <td>0.479402</td>\n",
       "      <td>0.529187</td>\n",
       "    </tr>\n",
       "  </tbody>\n",
       "</table>\n",
       "</div>"
      ],
      "text/plain": [
       "          a         c\n",
       "1  0.682860  0.136091\n",
       "2  0.789951  0.541751\n",
       "3  0.479402  0.529187"
      ]
     },
     "execution_count": 11,
     "metadata": {},
     "output_type": "execute_result"
    }
   ],
   "source": [
    "df.loc[1:,('a','c')]"
   ]
  },
  {
   "cell_type": "markdown",
   "metadata": {},
   "source": [
    "## The MultiIndex\n",
    "There are a couple different ways to construct and use a multi-index. First thing to note is that a pandas MultiIndex object can be used instead of a regular Index on any dimension (like index, columns). First, there are a few ways to construct them."
   ]
  },
  {
   "cell_type": "markdown",
   "metadata": {},
   "source": [
    "### Construct a MultiIndex"
   ]
  },
  {
   "cell_type": "code",
   "execution_count": 12,
   "metadata": {
    "collapsed": false
   },
   "outputs": [
    {
     "name": "stdout",
     "output_type": "stream",
     "text": [
      "MultiIndex(levels=[[0, 1, 2, 3], ['in', 'out']],\n",
      "           labels=[[0, 0, 1, 1, 2, 2, 3, 3], [0, 1, 0, 1, 0, 1, 0, 1]],\n",
      "           names=['number', 'direction'])\n"
     ]
    }
   ],
   "source": [
    "nodes = range(4)\n",
    "attr = ('in', 'out')\n",
    "indlist = list(itertools.product(nodes,attr))\n",
    "mi = pd.MultiIndex.from_tuples(indlist, names=['number','direction'])\n",
    "print(mi)"
   ]
  },
  {
   "cell_type": "markdown",
   "metadata": {},
   "source": [
    "or, equivalently:"
   ]
  },
  {
   "cell_type": "code",
   "execution_count": 13,
   "metadata": {
    "collapsed": false
   },
   "outputs": [
    {
     "name": "stdout",
     "output_type": "stream",
     "text": [
      "MultiIndex(levels=[[0, 1, 2, 3], ['in', 'out']],\n",
      "           labels=[[0, 0, 1, 1, 2, 2, 3, 3], [0, 1, 0, 1, 0, 1, 0, 1]],\n",
      "           names=['number', 'direction'])\n"
     ]
    }
   ],
   "source": [
    "nodes = range(4)\n",
    "attr = ('in', 'out')\n",
    "mi = pd.MultiIndex.from_product([nodes,attr], names=['number','direction'])\n",
    "print(mi)"
   ]
  },
  {
   "cell_type": "markdown",
   "metadata": {},
   "source": [
    "A MultiIndex itself is an efficient structure that is a little hard to view with a simple print. One of the easiest ways to observe it might be in list form. You'll have to imagine the heararchy part this way. It's also convenient to see the heirarchy later in the DataFrame view."
   ]
  },
  {
   "cell_type": "code",
   "execution_count": 14,
   "metadata": {
    "collapsed": false
   },
   "outputs": [
    {
     "name": "stdout",
     "output_type": "stream",
     "text": [
      "[(0, 'in'), (0, 'out'), (1, 'in'), (1, 'out'), (2, 'in'), (2, 'out'), (3, 'in'), (3, 'out')]\n"
     ]
    }
   ],
   "source": [
    "print(list(mi))"
   ]
  },
  {
   "cell_type": "markdown",
   "metadata": {},
   "source": [
    "You can access these items directly to get all possible labels at each level."
   ]
  },
  {
   "cell_type": "code",
   "execution_count": 15,
   "metadata": {
    "collapsed": false
   },
   "outputs": [
    {
     "data": {
      "text/plain": [
       "Index(['in', 'out'], dtype='object', name='direction')"
      ]
     },
     "execution_count": 15,
     "metadata": {},
     "output_type": "execute_result"
    }
   ],
   "source": [
    "mi.levels[1]"
   ]
  },
  {
   "cell_type": "markdown",
   "metadata": {},
   "source": [
    "And you can also use the method \"get_level_values\" to acess different pseudo-columns of the index."
   ]
  },
  {
   "cell_type": "code",
   "execution_count": 16,
   "metadata": {
    "collapsed": false
   },
   "outputs": [
    {
     "name": "stdout",
     "output_type": "stream",
     "text": [
      "Index(['in', 'out', 'in', 'out', 'in', 'out', 'in', 'out'], dtype='object', name='direction')\n",
      "Index(['in', 'out', 'in', 'out', 'in', 'out', 'in', 'out'], dtype='object', name='direction')\n"
     ]
    }
   ],
   "source": [
    "print(mi.get_level_values(1))\n",
    "print(mi.get_level_values('direction'))"
   ]
  },
  {
   "cell_type": "markdown",
   "metadata": {},
   "source": [
    "You can also reorder the index levels if needed."
   ]
  },
  {
   "cell_type": "code",
   "execution_count": 17,
   "metadata": {
    "collapsed": false
   },
   "outputs": [
    {
     "name": "stdout",
     "output_type": "stream",
     "text": [
      "MultiIndex(levels=[['in', 'out'], [0, 1, 2, 3]],\n",
      "           labels=[[0, 1, 0, 1, 0, 1, 0, 1], [0, 0, 1, 1, 2, 2, 3, 3]],\n",
      "           names=['direction', 'number'])\n",
      "MultiIndex(levels=[[0, 1, 2, 3], ['in', 'out']],\n",
      "           labels=[[0, 0, 1, 1, 2, 2, 3, 3], [0, 1, 0, 1, 0, 1, 0, 1]],\n",
      "           names=['number', 'direction'])\n"
     ]
    }
   ],
   "source": [
    "mi = mi.reorder_levels((1,0))\n",
    "print(mi)\n",
    "mi = mi.reorder_levels((1,0))\n",
    "print(mi)"
   ]
  },
  {
   "cell_type": "markdown",
   "metadata": {},
   "source": [
    "### Construct a DataFrame Using a MultiIndex\n",
    "Now the MultiIndex will be used to construct a dataframe. Without data values it will look like this:"
   ]
  },
  {
   "cell_type": "code",
   "execution_count": 18,
   "metadata": {
    "collapsed": false
   },
   "outputs": [
    {
     "name": "stdout",
     "output_type": "stream",
     "text": [
      "                 attr_a attr_b attr_c\n",
      "number direction                     \n",
      "0      in           NaN    NaN    NaN\n",
      "       out          NaN    NaN    NaN\n",
      "1      in           NaN    NaN    NaN\n",
      "       out          NaN    NaN    NaN\n",
      "2      in           NaN    NaN    NaN\n",
      "       out          NaN    NaN    NaN\n",
      "3      in           NaN    NaN    NaN\n",
      "       out          NaN    NaN    NaN\n"
     ]
    }
   ],
   "source": [
    "cols = ['attr_a','attr_b','attr_c']\n",
    "df = pd.DataFrame(index=mi,columns=cols)\n",
    "print(df)"
   ]
  },
  {
   "cell_type": "markdown",
   "metadata": {},
   "source": [
    "and with data values, like this:"
   ]
  },
  {
   "cell_type": "code",
   "execution_count": 19,
   "metadata": {
    "collapsed": false
   },
   "outputs": [
    {
     "name": "stdout",
     "output_type": "stream",
     "text": [
      "                    attr_a    attr_b    attr_c\n",
      "number direction                              \n",
      "0      in         0.729400  0.817141  0.269680\n",
      "       out        0.441074  0.535002  0.618083\n",
      "1      in         0.158032  0.746562  0.820763\n",
      "       out        0.342587  0.236849  0.871743\n",
      "2      in         0.087112  0.874758  0.029679\n",
      "       out        0.877390  0.399852  0.593797\n",
      "3      in         0.561688  0.929694  0.723619\n",
      "       out        0.102683  0.927524  0.145657\n"
     ]
    }
   ],
   "source": [
    "cols = ['attr_a','attr_b','attr_c']\n",
    "dat = np.random.uniform(0,1,(len(mi),len(cols)))\n",
    "df = pd.DataFrame(dat,index=mi,columns=cols)\n",
    "print(df)"
   ]
  },
  {
   "cell_type": "markdown",
   "metadata": {},
   "source": [
    "Although in this case it has already been done, in some cases you may need to sort the axis dimensions to perform partial indexing."
   ]
  },
  {
   "cell_type": "code",
   "execution_count": 20,
   "metadata": {
    "collapsed": true
   },
   "outputs": [],
   "source": [
    "df.sort_index(axis='index',inplace=True)"
   ]
  },
  {
   "cell_type": "markdown",
   "metadata": {},
   "source": [
    "### .loc[] Indexing With MultiIndex\n",
    "Just as with simple index dataframes, .loc[] for dataframes with multiindices should separate dimensions by commas. In dimensions that use the MultiIndex, provide a complete tuple to get or assign a specific value."
   ]
  },
  {
   "cell_type": "code",
   "execution_count": 21,
   "metadata": {
    "collapsed": false
   },
   "outputs": [
    {
     "data": {
      "text/plain": [
       "0.15803238425049915"
      ]
     },
     "execution_count": 21,
     "metadata": {},
     "output_type": "execute_result"
    }
   ],
   "source": [
    "df.loc[(1,'in'),'attr_a']"
   ]
  },
  {
   "cell_type": "markdown",
   "metadata": {},
   "source": [
    "And ignore all but the first index level by providng a scalar."
   ]
  },
  {
   "cell_type": "code",
   "execution_count": 22,
   "metadata": {
    "collapsed": false
   },
   "outputs": [
    {
     "data": {
      "text/plain": [
       "direction\n",
       "in     0.158032\n",
       "out    0.342587\n",
       "Name: attr_a, dtype: float64"
      ]
     },
     "execution_count": 22,
     "metadata": {},
     "output_type": "execute_result"
    }
   ],
   "source": [
    "df.loc[1,'attr_a']"
   ]
  },
  {
   "cell_type": "markdown",
   "metadata": {},
   "source": [
    "In this example, you can consider the tuple (0,'in') to be a single element of the MultiIndex. Because of that, you can slice values like the following."
   ]
  },
  {
   "cell_type": "code",
   "execution_count": 23,
   "metadata": {
    "collapsed": false
   },
   "outputs": [
    {
     "data": {
      "text/plain": [
       "number  direction\n",
       "0       in           0.729400\n",
       "        out          0.441074\n",
       "1       in           0.158032\n",
       "        out          0.342587\n",
       "Name: attr_a, dtype: float64"
      ]
     },
     "execution_count": 23,
     "metadata": {},
     "output_type": "execute_result"
    }
   ],
   "source": [
    "df.loc[(0,'in'):(1,'out'),'attr_a']"
   ]
  },
  {
   "cell_type": "markdown",
   "metadata": {},
   "source": [
    "### .loc[] With Partial Index"
   ]
  },
  {
   "cell_type": "markdown",
   "metadata": {},
   "source": [
    "You can also provide a partial index leveling in order."
   ]
  },
  {
   "cell_type": "code",
   "execution_count": 24,
   "metadata": {
    "collapsed": false
   },
   "outputs": [
    {
     "data": {
      "text/plain": [
       "direction\n",
       "in     0.729400\n",
       "out    0.441074\n",
       "Name: attr_a, dtype: float64"
      ]
     },
     "execution_count": 24,
     "metadata": {},
     "output_type": "execute_result"
    }
   ],
   "source": [
    "df.loc[(0,),'attr_a']"
   ]
  },
  {
   "cell_type": "markdown",
   "metadata": {},
   "source": [
    "Also include slices in tuples. Because it is in the tuple you need to use the 'slice' function instead of the ':' operator."
   ]
  },
  {
   "cell_type": "code",
   "execution_count": 25,
   "metadata": {
    "collapsed": false
   },
   "outputs": [
    {
     "data": {
      "text/plain": [
       "number  direction\n",
       "0       in           0.729400\n",
       "        out          0.441074\n",
       "1       in           0.158032\n",
       "        out          0.342587\n",
       "Name: attr_a, dtype: float64"
      ]
     },
     "execution_count": 25,
     "metadata": {},
     "output_type": "execute_result"
    }
   ],
   "source": [
    "df.loc[(slice(0,1),),'attr_a']"
   ]
  },
  {
   "cell_type": "markdown",
   "metadata": {},
   "source": [
    "Or use another tuple to get specific values at a specific level."
   ]
  },
  {
   "cell_type": "code",
   "execution_count": 26,
   "metadata": {
    "collapsed": false
   },
   "outputs": [
    {
     "data": {
      "text/plain": [
       "number  direction\n",
       "0       in           0.729400\n",
       "        out          0.441074\n",
       "3       in           0.561688\n",
       "        out          0.102683\n",
       "Name: attr_a, dtype: float64"
      ]
     },
     "execution_count": 26,
     "metadata": {},
     "output_type": "execute_result"
    }
   ],
   "source": [
    "df.loc[((0,3),),'attr_a']"
   ]
  },
  {
   "cell_type": "markdown",
   "metadata": {
    "collapsed": true
   },
   "source": [
    "Incomplete indexing can be made more robust by including slicing in specific levels according to the lexical sorting. Note that 'slice(None)' can be used instead of the 'all' slice operator ':'."
   ]
  },
  {
   "cell_type": "code",
   "execution_count": 27,
   "metadata": {
    "collapsed": false
   },
   "outputs": [
    {
     "data": {
      "text/plain": [
       "number  direction\n",
       "0       out          0.441074\n",
       "1       out          0.342587\n",
       "2       out          0.877390\n",
       "3       out          0.102683\n",
       "Name: attr_a, dtype: float64"
      ]
     },
     "execution_count": 27,
     "metadata": {},
     "output_type": "execute_result"
    }
   ],
   "source": [
    "df.loc[(slice(None),'out'),'attr_a']"
   ]
  },
  {
   "cell_type": "markdown",
   "metadata": {},
   "source": [
    "## Looping Through DataFrame With MultiIndex Dimension\n",
    "Looping is one of the most simple things you may want to do with your MultiIndex and DataFrame. You can always get your multiindex back out of the dataframe directly. For example we will switch to a thre-dimensional indexing scheme."
   ]
  },
  {
   "cell_type": "code",
   "execution_count": 28,
   "metadata": {
    "collapsed": false
   },
   "outputs": [
    {
     "name": "stdout",
     "output_type": "stream",
     "text": [
      "            skill  experience\n",
      "0 in  a  0.345953    0.527715\n",
      "      b  0.336080    0.866092\n",
      "  out a  0.395736    0.780968\n",
      "      b  0.798062    0.843355\n",
      "1 in  a  0.483975    0.812950\n",
      "      b  0.147582    0.136542\n",
      "  out a  0.771971    0.352005\n",
      "      b  0.849107    0.037425\n",
      "2 in  a  0.224733    0.692692\n",
      "      b  0.907861    0.606785\n",
      "  out a  0.554473    0.302768\n",
      "      b  0.683281    0.182192\n"
     ]
    }
   ],
   "source": [
    "cols = ['skill', 'experience']\n",
    "mi = pd.MultiIndex.from_product([range(3),('in','out'),('a','b')])\n",
    "data = np.random.uniform(0,1,size=(12,len(cols)))\n",
    "df = pd.DataFrame(data,index=mi,columns=cols)\n",
    "print(df)"
   ]
  },
  {
   "cell_type": "code",
   "execution_count": 31,
   "metadata": {
    "collapsed": false
   },
   "outputs": [
    {
     "name": "stdout",
     "output_type": "stream",
     "text": [
      "            skill  experience\n",
      "0 in  a  0.345953    0.527715\n",
      "      b  0.336080    0.866092\n",
      "  out a  0.395736    0.780968\n",
      "      b  0.798062    0.843355\n",
      "           skill  experience\n",
      "0 in a  0.345953    0.527715\n",
      "     b  0.336080    0.866092\n",
      "0,in,a\n",
      "skill         0.345953\n",
      "experience    0.527715\n",
      "Name: (0, in, a), dtype: float64\n",
      "\n",
      "\n",
      "0,in,b\n",
      "skill         0.336080\n",
      "experience    0.866092\n",
      "Name: (0, in, b), dtype: float64\n",
      "\n",
      "\n",
      "            skill  experience\n",
      "0 out a  0.395736    0.780968\n",
      "      b  0.798062    0.843355\n",
      "0,out,a\n",
      "skill         0.395736\n",
      "experience    0.780968\n",
      "Name: (0, out, a), dtype: float64\n",
      "\n",
      "\n",
      "0,out,b\n",
      "skill         0.798062\n",
      "experience    0.843355\n",
      "Name: (0, out, b), dtype: float64\n",
      "\n",
      "\n",
      "            skill  experience\n",
      "1 in  a  0.483975    0.812950\n",
      "      b  0.147582    0.136542\n",
      "  out a  0.771971    0.352005\n",
      "      b  0.849107    0.037425\n",
      "           skill  experience\n",
      "1 in a  0.483975    0.812950\n",
      "     b  0.147582    0.136542\n",
      "1,in,a\n",
      "skill         0.483975\n",
      "experience    0.812950\n",
      "Name: (1, in, a), dtype: float64\n",
      "\n",
      "\n",
      "1,in,b\n",
      "skill         0.147582\n",
      "experience    0.136542\n",
      "Name: (1, in, b), dtype: float64\n",
      "\n",
      "\n",
      "            skill  experience\n",
      "1 out a  0.771971    0.352005\n",
      "      b  0.849107    0.037425\n",
      "1,out,a\n",
      "skill         0.771971\n",
      "experience    0.352005\n",
      "Name: (1, out, a), dtype: float64\n",
      "\n",
      "\n",
      "1,out,b\n",
      "skill         0.849107\n",
      "experience    0.037425\n",
      "Name: (1, out, b), dtype: float64\n",
      "\n",
      "\n",
      "            skill  experience\n",
      "2 in  a  0.224733    0.692692\n",
      "      b  0.907861    0.606785\n",
      "  out a  0.554473    0.302768\n",
      "      b  0.683281    0.182192\n",
      "           skill  experience\n",
      "2 in a  0.224733    0.692692\n",
      "     b  0.907861    0.606785\n",
      "2,in,a\n",
      "skill         0.224733\n",
      "experience    0.692692\n",
      "Name: (2, in, a), dtype: float64\n",
      "\n",
      "\n",
      "2,in,b\n",
      "skill         0.907861\n",
      "experience    0.606785\n",
      "Name: (2, in, b), dtype: float64\n",
      "\n",
      "\n",
      "            skill  experience\n",
      "2 out a  0.554473    0.302768\n",
      "      b  0.683281    0.182192\n",
      "2,out,a\n",
      "skill         0.554473\n",
      "experience    0.302768\n",
      "Name: (2, out, a), dtype: float64\n",
      "\n",
      "\n",
      "2,out,b\n",
      "skill         0.683281\n",
      "experience    0.182192\n",
      "Name: (2, out, b), dtype: float64\n",
      "\n",
      "\n"
     ]
    }
   ],
   "source": [
    "for i in df.index.levels[0]:\n",
    "    print(df.loc[(i,slice(None),slice(None))])\n",
    "    for j in df.index.levels[1]:\n",
    "        print(df.loc[(i,j,slice(None))])\n",
    "        for k in df.index.levels[2]:\n",
    "            print('%d,%s,%s'%(i,j,k))\n",
    "            print(df.loc[(i,j,k)])\n",
    "            print('\\r\\n')"
   ]
  },
  {
   "cell_type": "markdown",
   "metadata": {},
   "source": [
    "### Build Tree From MultiIndex"
   ]
  },
  {
   "cell_type": "code",
   "execution_count": 30,
   "metadata": {
    "collapsed": false,
    "scrolled": false
   },
   "outputs": [
    {
     "ename": "NameError",
     "evalue": "name 'mitree_r' is not defined",
     "output_type": "error",
     "traceback": [
      "\u001b[1;31m---------------------------------------------------------------------------\u001b[0m",
      "\u001b[1;31mNameError\u001b[0m                                 Traceback (most recent call last)",
      "\u001b[1;32m<ipython-input-30-78d61070e45f>\u001b[0m in \u001b[0;36m<module>\u001b[1;34m()\u001b[0m\n\u001b[0;32m     16\u001b[0m \u001b[1;33m\u001b[0m\u001b[0m\n\u001b[0;32m     17\u001b[0m \u001b[1;33m\u001b[0m\u001b[0m\n\u001b[1;32m---> 18\u001b[1;33m \u001b[0mmitree\u001b[0m \u001b[1;33m=\u001b[0m \u001b[0mget_mitree\u001b[0m\u001b[1;33m(\u001b[0m\u001b[0mmi\u001b[0m\u001b[1;33m)\u001b[0m\u001b[1;33m\u001b[0m\u001b[0m\n\u001b[0m\u001b[0;32m     19\u001b[0m \u001b[1;31m#import pprint; pprint.pprint(mitree)\u001b[0m\u001b[1;33m\u001b[0m\u001b[1;33m\u001b[0m\u001b[0m\n\u001b[0;32m     20\u001b[0m \u001b[1;32mfor\u001b[0m \u001b[0mnum\u001b[0m \u001b[1;32min\u001b[0m \u001b[0mmitree\u001b[0m\u001b[1;33m:\u001b[0m\u001b[1;33m\u001b[0m\u001b[0m\n",
      "\u001b[1;32m<ipython-input-30-78d61070e45f>\u001b[0m in \u001b[0;36mget_mitree\u001b[1;34m(mi)\u001b[0m\n\u001b[0;32m      1\u001b[0m \u001b[1;32mdef\u001b[0m \u001b[0mget_mitree\u001b[0m\u001b[1;33m(\u001b[0m\u001b[0mmi\u001b[0m\u001b[1;33m)\u001b[0m\u001b[1;33m:\u001b[0m\u001b[1;33m\u001b[0m\u001b[0m\n\u001b[1;32m----> 2\u001b[1;33m     \u001b[1;32mreturn\u001b[0m \u001b[0mmitree_r\u001b[0m\u001b[1;33m(\u001b[0m\u001b[0mmi\u001b[0m\u001b[1;33m,\u001b[0m\u001b[1;36m0\u001b[0m\u001b[1;33m)\u001b[0m\u001b[1;33m\u001b[0m\u001b[0m\n\u001b[0m\u001b[0;32m      3\u001b[0m \u001b[1;33m\u001b[0m\u001b[0m\n\u001b[0;32m      4\u001b[0m \u001b[1;32mdef\u001b[0m \u001b[0mget_mitree_r\u001b[0m\u001b[1;33m(\u001b[0m\u001b[0mmi\u001b[0m\u001b[1;33m,\u001b[0m\u001b[0mlev\u001b[0m\u001b[1;33m)\u001b[0m\u001b[1;33m:\u001b[0m\u001b[1;33m\u001b[0m\u001b[0m\n\u001b[0;32m      5\u001b[0m     \u001b[1;32mif\u001b[0m \u001b[0mlen\u001b[0m\u001b[1;33m(\u001b[0m\u001b[0mmi\u001b[0m\u001b[1;33m)\u001b[0m \u001b[1;33m==\u001b[0m \u001b[1;36m1\u001b[0m\u001b[1;33m:\u001b[0m\u001b[1;33m\u001b[0m\u001b[0m\n",
      "\u001b[1;31mNameError\u001b[0m: name 'mitree_r' is not defined"
     ]
    }
   ],
   "source": [
    "def get_mitree(mi):\n",
    "    return mitree_r(mi,0)\n",
    "\n",
    "def get_mitree_r(mi,lev):\n",
    "    if len(mi) == 1:\n",
    "        return mi[0]\n",
    "    else:\n",
    "        children = list()\n",
    "        numlev = len(mi[0]) # total number of levels\n",
    "        for val in set(map(lambda x: x[lev],mi)):\n",
    "            mislice = list(filter(lambda x: x[lev]==val, mi))\n",
    "            key = mislice[0][:lev] + ((slice(None),)*(numlev-lev))\n",
    "            val = get_mitree_r(mislice,lev+1)\n",
    "            children.append(val)\n",
    "        return children\n",
    "\n",
    "    \n",
    "mitree = get_mitree(mi)\n",
    "#import pprint; pprint.pprint(mitree)\n",
    "for num in mitree:\n",
    "    for loc in num:\n",
    "        print(loc)"
   ]
  }
 ],
 "metadata": {
  "kernelspec": {
   "display_name": "Python 3",
   "language": "python",
   "name": "python3"
  },
  "language_info": {
   "codemirror_mode": {
    "name": "ipython",
    "version": 3
   },
   "file_extension": ".py",
   "mimetype": "text/x-python",
   "name": "python",
   "nbconvert_exporter": "python",
   "pygments_lexer": "ipython3",
   "version": "3.4.3"
  }
 },
 "nbformat": 4,
 "nbformat_minor": 1
}
