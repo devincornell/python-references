{
 "cells": [
  {
   "cell_type": "markdown",
   "metadata": {},
   "source": [
    "# Builtin Iterables\n",
    "This document is dedicated to various tricks that can be use to perform simple loops in a single line. These loops might construct an iterable, perform some operation on a iterable, or even select specific values from a iterable. Iterables in this document refer to lists, dictionaries, and sets."
   ]
  },
  {
   "cell_type": "code",
   "execution_count": 8,
   "metadata": {
    "collapsed": true
   },
   "outputs": [],
   "source": [
    "import itertools # most tricks won't need this, just imported for constructing examples"
   ]
  },
  {
   "cell_type": "markdown",
   "metadata": {},
   "source": [
    "## Iterable Comprehensions\n",
    "The most basic of these tricks is the comprehension, which can be performed on any of the types covered here."
   ]
  },
  {
   "cell_type": "code",
   "execution_count": 15,
   "metadata": {
    "collapsed": false
   },
   "outputs": [
    {
     "name": "stdout",
     "output_type": "stream",
     "text": [
      "set: {0, 1, 2, 3, 4, 5, 6, 7, 8, 9}\n",
      "list: [0, 1, 2, 3, 4, 5, 6, 7, 8, 9]\n",
      "dict: {0: 0, 1: 1, 2: 4, 3: 9, 4: 16, 5: 25, 6: 36, 7: 49, 8: 64, 9: 81}\n"
     ]
    }
   ],
   "source": [
    "s = {a for a in range(10)} # set\n",
    "l = [n for n in range(10)] # list\n",
    "d = {n:n*n for n in range(10)} # dictionary\n",
    "print('set:',s)\n",
    "print('list:',l)\n",
    "print('dict:',d)"
   ]
  },
  {
   "cell_type": "code",
   "execution_count": 18,
   "metadata": {
    "collapsed": false
   },
   "outputs": [
    {
     "data": {
      "text/plain": [
       "{0: 0, 1: 1, 2: 4, 3: 9, 4: 16, 5: 25, 6: 36, 7: 49, 8: 64, 9: 81}"
      ]
     },
     "execution_count": 18,
     "metadata": {},
     "output_type": "execute_result"
    }
   ],
   "source": [
    "dict(list(d.items()))"
   ]
  },
  {
   "cell_type": "markdown",
   "metadata": {},
   "source": [
    "## Iterable Maps"
   ]
  },
  {
   "cell_type": "code",
   "execution_count": 28,
   "metadata": {
    "collapsed": false,
    "scrolled": true
   },
   "outputs": [
    {
     "name": "stdout",
     "output_type": "stream",
     "text": [
      "set_squared: {0, 1, 64, 4, 36, 9, 16, 49, 81, 25}\n",
      "list_squared: [0, 1, 4, 9, 16, 25, 36, 49, 64, 81]\n",
      "dict_squared: {0: 0, 1: 1, 2: 16, 3: 81, 4: 256, 5: 625, 6: 1296, 7: 2401, 8: 4096, 9: 6561}\n"
     ]
    }
   ],
   "source": [
    "s_squared = set(map(lambda x: x**2, s))\n",
    "l_squared = list(map(lambda x: x**2, l))\n",
    "d_squared = dict(map(lambda d: (d[0],d[1]**2), d.items()))\n",
    "print('set_squared:',s_squared)\n",
    "print('list_squared:',l_squared)\n",
    "print('dict_squared:',d_squared)"
   ]
  },
  {
   "cell_type": "markdown",
   "metadata": {},
   "source": [
    "## Iterable Filter\n",
    "The filter function will take an iterable and return an iterable after removing elements that don't meet the criteria. Criteria is defined by a function that takes an iterable element and returns a True/False value."
   ]
  },
  {
   "cell_type": "code",
   "execution_count": 32,
   "metadata": {
    "collapsed": false,
    "scrolled": true
   },
   "outputs": [
    {
     "name": "stdout",
     "output_type": "stream",
     "text": [
      "ss_big: {64, 36, 16, 49, 81, 25}\n",
      "ls_big: [16, 25, 36, 49, 64, 81]\n",
      "ds_big: {4: 256, 5: 625, 6: 1296, 7: 2401, 8: 4096, 9: 6561}\n"
     ]
    }
   ],
   "source": [
    "ss_big = set(filter(lambda x: x > 10, s_squared))\n",
    "ls_big = list(filter(lambda x: x > 10, l_squared))\n",
    "ds_big = dict(filter(lambda d: d[1] > 200, d_squared.items()))\n",
    "print('ss_big:',ss_big)\n",
    "print('ls_big:',ls_big)\n",
    "print('ds_big:',ds_big)"
   ]
  }
 ],
 "metadata": {
  "kernelspec": {
   "display_name": "Python 3",
   "language": "python",
   "name": "python3"
  },
  "language_info": {
   "codemirror_mode": {
    "name": "ipython",
    "version": 3
   },
   "file_extension": ".py",
   "mimetype": "text/x-python",
   "name": "python",
   "nbconvert_exporter": "python",
   "pygments_lexer": "ipython3",
   "version": "3.4.3"
  }
 },
 "nbformat": 4,
 "nbformat_minor": 1
}
